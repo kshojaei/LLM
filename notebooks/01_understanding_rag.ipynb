{
  "cells": [
    {
      "cell_type": "markdown",
      "metadata": {},
      "source": [
        "# Understanding RAG (Retrieval-Augmented Generation)\n",
        "\n",
        "## Learning Objectives\n",
        "By the end of this notebook, you will understand:\n",
        "1. What RAG is and why it's important\n",
        "2. The components of a RAG system\n",
        "3. How retrieval and generation work together\n",
        "4. Common challenges and solutions\n",
        "\n",
        "## What is RAG?\n",
        "\n",
        "RAG stands for **Retrieval-Augmented Generation**. It's a technique that combines:\n",
        "- **Retrieval**: Finding relevant information from a knowledge base\n",
        "- **Augmented**: Enhancing the LLM's input with retrieved information\n",
        "- **Generation**: Using an LLM to generate responses based on the augmented input\n",
        "\n",
        "### Why do we need RAG?\n",
        "\n",
        "1. **Knowledge Cutoff**: LLMs have training data cutoffs and don't know recent information\n",
        "2. **Hallucination**: LLMs can make up facts that sound plausible\n",
        "3. **Domain Specificity**: General LLMs may not be experts in specific domains\n",
        "4. **Cost Efficiency**: Retrieving relevant context reduces the need for larger models\n",
        "\n",
        "## RAG Architecture Components\n",
        "\n",
        "```\n",
        "Query → Retriever → Retrieved Docs → Generator → Response\n",
        "                    ↑                        ↑\n",
        "                Knowledge Base            LLM\n",
        "```\n",
        "\n",
        "### 1. Knowledge Base\n",
        "- **Documents**: Raw text data (Wikipedia, PDFs, etc.)\n",
        "- **Chunks**: Split documents into manageable pieces\n",
        "- **Embeddings**: Vector representations of chunks\n",
        "- **Vector Store**: Database for similarity search\n",
        "\n",
        "### 2. Retriever\n",
        "- **Embedding Model**: Converts text to vectors\n",
        "- **Similarity Search**: Finds relevant chunks\n",
        "- **Ranking**: Orders results by relevance\n",
        "\n",
        "### 3. Generator\n",
        "- **LLM**: Large Language Model (Llama, GPT, etc.)\n",
        "- **Prompt Engineering**: How we format input to the LLM\n",
        "- **Context Management**: How we handle retrieved information\n",
        "\n",
        "## Let's Build Our Understanding Step by Step\n"
      ]
    },
    {
      "cell_type": "code",
      "execution_count": 1,
      "metadata": {},
      "outputs": [
        {
          "name": "stdout",
          "output_type": "stream",
          "text": [
            "Libraries imported successfully!\n",
            "Ready to learn about RAG systems!\n"
          ]
        }
      ],
      "source": [
        "# First, let's import the libraries we'll need\n",
        "# Add project root to path - multiple approaches for reliability\n",
        "# Add both current directory and project root to path\n",
        "import numpy as np\n",
        "import pandas as pd\n",
        "import matplotlib.pyplot as plt\n",
        "import seaborn as sns\n",
        "import os\n",
        "import sys\n",
        "current_dir = os.getcwd()\n",
        "project_root = os.path.dirname(current_dir) if current_dir.endswith('notebooks') else current_dir\n",
        "sys.path.insert(0, project_root)\n",
        "sys.path.insert(0, current_dir)\n",
        "sys.path.insert(0, '.')\n",
        "\n",
        "from src.data.collect_data import DataCollector\n",
        "\n",
        "\n",
        "# Set up plotting\n",
        "plt.style.use('seaborn-v0_8')\n",
        "sns.set_palette(\"husl\")\n",
        "\n",
        "print(\"Libraries imported successfully!\")\n",
        "print(\"Ready to learn about RAG systems!\")"
      ]
    },
    {
      "cell_type": "markdown",
      "metadata": {},
      "source": [
        "## Step 1: Understanding Text Embeddings\n",
        "\n",
        "Let's start by understanding how text becomes numbers that computers can work with. This is the foundation of everything we'll do.\n",
        "\n",
        "### What are Embeddings?\n",
        "\n",
        "Embeddings are numerical representations of text that capture semantic meaning. Words or sentences that are similar in meaning have similar embedding vectors.\n",
        "\n",
        "Think of it like this: if you had to describe a word using just 5 numbers, how would you do it? Embeddings do this with hundreds or thousands of dimensions."
      ]
    },
    {
      "cell_type": "markdown",
      "metadata": {},
      "source": [
        "## Understanding Embedding Models: The Foundation of RAG\n",
        "\n",
        "Now that we understand what embeddings are, let's dive deeper into the different types of embedding models available and how to choose the right one for your task.\n",
        "\n",
        "### What are Embedding Models?\n",
        "\n",
        "Embedding models are neural networks trained to convert text into dense vector representations. They learn to map semantically similar text to nearby points in a high-dimensional space.\n",
        "\n",
        "### Types of Embedding Models\n",
        "\n",
        "#### 1. **Sentence Transformers** (What we're using)\n",
        "- **Purpose**: Convert entire sentences/paragraphs to vectors\n",
        "- **Best for**: Semantic search, document similarity, RAG systems\n",
        "- **Examples**: `all-MiniLM-L6-v2`, `all-mpnet-base-v2`, `BAAI/bge-base-en-v1.5`\n",
        "\n",
        "#### 2. **Word Embeddings**\n",
        "- **Purpose**: Convert individual words to vectors\n",
        "- **Best for**: Word-level analysis, language modeling\n",
        "- **Examples**: Word2Vec, GloVe, FastText\n",
        "\n",
        "#### 3. **Contextual Embeddings**\n",
        "- **Purpose**: Generate different vectors for the same word based on context\n",
        "- **Best for**: Understanding word meaning in context\n",
        "- **Examples**: BERT, RoBERTa, DeBERTa\n",
        "\n",
        "### Popular Embedding Models Comparison\n",
        "\n",
        "| Model | Size | Dimensions | Speed | Quality | Use Case |\n",
        "|-------|------|------------|-------|---------|----------|\n",
        "| **all-MiniLM-L6-v2** | 22MB | 384 | Very Fast | Good | Quick prototyping, small datasets |\n",
        "| **all-mpnet-base-v2** | 420MB | 768 | Fast | Very Good | General purpose, balanced |\n",
        "| **BAAI/bge-base-en-v1.5** | 438MB | 768 | Fast | Excellent | Production RAG systems |\n",
        "| **text-embedding-ada-002** | API | 1536 | Medium | Excellent | OpenAI's production model |\n",
        "| **text-embedding-3-large** | API | 3072 | Medium | Best | OpenAI's latest, highest quality |\n",
        "\n",
        "### What Do Big Companies Use?\n",
        "\n",
        "#### **OpenAI**\n",
        "- **Current**: `text-embedding-3-large` (3072 dimensions)\n",
        "- **Previous**: `text-embedding-ada-002` (1536 dimensions)\n",
        "- **Why**: Highest quality, but requires API calls and costs money\n",
        "\n",
        "#### **Facebook/Meta**\n",
        "- **Research**: DINOv2, LLaMA embeddings\n",
        "- **Production**: Often use sentence-transformers or custom models\n",
        "- **Why**: Need control over the model and data privacy\n",
        "\n",
        "#### **Google**\n",
        "- **Current**: Universal Sentence Encoder (USE)\n",
        "- **Research**: PaLM embeddings, T5-based models\n",
        "- **Why**: Integration with Google Cloud services\n",
        "\n",
        "#### **Microsoft**\n",
        "- **Current**: Azure OpenAI embeddings\n",
        "- **Research**: DeBERTa, CodeBERT\n",
        "- **Why**: Enterprise integration and security\n",
        "\n",
        "### Why all-MiniLM-L6-v2?\n",
        "\n",
        "We're using `all-MiniLM-L6-v2` because:\n",
        "\n",
        "1. **Small Size**: Only 22MB - easy to download and run locally\n",
        "2. **Fast**: Quick inference for learning and experimentation\n",
        "3. **Good Quality**: Decent performance for most tasks\n",
        "4. **Free**: No API costs or rate limits\n",
        "5. **Educational**: Perfect for understanding concepts\n",
        "\n",
        "### When to Use Different Models\n",
        "\n",
        "#### **For Learning/Prototyping**\n",
        "- `all-MiniLM-L6-v2` - Fast, small, good enough\n",
        "- `all-MiniLM-L12-v2` - Slightly better quality, still fast\n",
        "\n",
        "#### **For Production (Small Scale)**\n",
        "- `all-mpnet-base-v2` - Better quality, still manageable size\n",
        "- `BAAI/bge-base-en-v1.5` - Excellent quality, good for RAG\n",
        "\n",
        "#### **For Production (Large Scale)**\n",
        "- `text-embedding-3-large` - Best quality, but expensive\n",
        "- Custom fine-tuned models - Optimized for your specific domain\n",
        "\n",
        "### Understanding Cosine Similarity\n",
        "\n",
        "Cosine similarity is the most common way to measure how similar two embedding vectors are.\n",
        "\n",
        "#### **Mathematical Formula**\n",
        "\n",
        "For two vectors **A** and **B**, cosine similarity is:\n",
        "\n",
        "```\n",
        "cos(θ) = (A · B) / (||A|| × ||B||)\n",
        "```\n",
        "\n",
        "Where:\n",
        "- **A · B** = dot product of vectors A and B\n",
        "- **||A||** = magnitude (length) of vector A\n",
        "- **||B||** = magnitude (length) of vector B\n",
        "- **θ** = angle between the vectors\n",
        "\n",
        "#### **In Simple Terms**\n",
        "\n",
        "1. **Dot Product (A · B)**: Multiply corresponding elements and sum them up\n",
        "2. **Magnitude (||A||)**: Square each element, sum them, take square root\n",
        "3. **Cosine**: Divide dot product by the product of magnitudes\n",
        "\n",
        "#### **Why Cosine Similarity?**\n",
        "\n",
        "- **Range**: Always between -1 and 1\n",
        "- **Scale Invariant**: Doesn't matter if vectors are long or short\n",
        "- **Intuitive**: 1 = identical, 0 = orthogonal (no similarity), -1 = opposite\n",
        "- **Efficient**: Fast to compute\n",
        "\n",
        "#### **Example Calculation**\n",
        "\n",
        "If we have two simple 2D vectors:\n",
        "- A = [3, 4]\n",
        "- B = [1, 2]\n",
        "\n",
        "1. **Dot Product**: A · B = (3×1) + (4×2) = 3 + 8 = 11\n",
        "2. **Magnitude A**: ||A|| = √(3² + 4²) = √(9 + 16) = √25 = 5\n",
        "3. **Magnitude B**: ||B|| = √(1² + 2²) = √(1 + 4) = √5 ≈ 2.24\n",
        "4. **Cosine Similarity**: 11 / (5 × 2.24) ≈ 0.98\n",
        "\n",
        "This means the vectors are very similar (98% similar)!\n"
      ]
    },
    {
      "cell_type": "code",
      "execution_count": 2,
      "metadata": {},
      "outputs": [
        {
          "name": "stderr",
          "output_type": "stream",
          "text": [
            "INFO:src.data.collect_data:Data collector initialized. Output directory: /Users/scienceman/Desktop/LLM/data/raw\n",
            "INFO:src.data.collect_data:Collecting ArXiv data...\n",
            "INFO:src.data.collect_data:Fetching real ArXiv data using ArXiv API...\n",
            "INFO:src.data.collect_data:Collected: GC-VLN: Instruction as Graph Constraints for Training-free\n",
            "  Vision-and-Language Navigation\n",
            "INFO:src.data.collect_data:Collected: SSL-AD: Spatiotemporal Self-Supervised Learning for Generalizability and\n",
            "  Adaptability Across Alzheimer's Prediction Tasks and Datasets\n",
            "INFO:src.data.collect_data:Collected: SSL-AD: Spatiotemporal Self-Supervised Learning for Generalizability and\n",
            "  Adaptability Across Alzheimer's Prediction Tasks and Datasets\n",
            "INFO:src.data.collect_data:Collected: WhisTLE: Deeply Supervised, Text-Only Domain Adaptation for Pretrained\n",
            "  Speech Recognition Transformers\n",
            "INFO:src.data.collect_data:Successfully collected 4 ArXiv papers\n"
          ]
        },
        {
          "name": "stdout",
          "output_type": "stream",
          "text": [
            "Collected 4 ArXiv papers\n",
            "ArXiv sample structure: 4 papers\n",
            "First paper title: GC-VLN: Instruction as Graph Constraints for Training-free\n",
            "  Vision-and-Language Navigation\n",
            "First paper abstract length: 1657 characters\n"
          ]
        }
      ],
      "source": [
        "# Use our DataCollector instead of direct load_dataset\n",
        "collector = DataCollector()\n",
        "arxiv_sample_data = collector.collect_arxiv_data(max_documents=5)\n",
        "print(f'Collected {len(arxiv_sample_data)} ArXiv papers')\n",
        "\n",
        "# Convert to the format expected by the rest of the notebook\n",
        "arxiv_sample = []\n",
        "for paper in arxiv_sample_data:\n",
        "    arxiv_sample.append({\n",
        "        'title': paper['title'],\n",
        "        'abstract': paper['abstract']\n",
        "    })\n",
        "\n",
        "print(f'ArXiv sample structure: {len(arxiv_sample)} papers')\n",
        "if arxiv_sample:\n",
        "    print(f'First paper title: {arxiv_sample[0][\"title\"]}')\n",
        "    print(f'First paper abstract length: {len(arxiv_sample[0][\"abstract\"])} characters')"
      ]
    },
    {
      "cell_type": "code",
      "execution_count": 5,
      "metadata": {},
      "outputs": [
        {
          "name": "stderr",
          "output_type": "stream",
          "text": [
            "INFO:sentence_transformers.SentenceTransformer:Use pytorch device_name: mps\n",
            "INFO:sentence_transformers.SentenceTransformer:Load pretrained SentenceTransformer: all-MiniLM-L6-v2\n"
          ]
        },
        {
          "name": "stdout",
          "output_type": "stream",
          "text": [
            "Exploring Different Embedding Models\n",
            "==================================================\n",
            "Test sentences:\n",
            "1. Machine learning is a subset of artificial intelligence\n",
            "2. AI includes machine learning as one of its branches\n",
            "3. The weather is sunny today\n",
            "4. It's raining outside\n",
            "\n",
            "==================================================\n",
            "\n",
            "Testing all-MiniLM-L6-v2\n",
            "Description: Small, fast model (22MB)\n"
          ]
        },
        {
          "data": {
            "application/vnd.jupyter.widget-view+json": {
              "model_id": "863fc70aedad421a8346079d63270adf",
              "version_major": 2,
              "version_minor": 0
            },
            "text/plain": [
              "Batches:   0%|          | 0/1 [00:00<?, ?it/s]"
            ]
          },
          "metadata": {},
          "output_type": "display_data"
        },
        {
          "name": "stderr",
          "output_type": "stream",
          "text": [
            "INFO:sentence_transformers.SentenceTransformer:Use pytorch device_name: mps\n",
            "INFO:sentence_transformers.SentenceTransformer:Load pretrained SentenceTransformer: all-MiniLM-L12-v2\n"
          ]
        },
        {
          "name": "stdout",
          "output_type": "stream",
          "text": [
            "Loaded in 1.33s\n",
            "Encoded in 0.04s\n",
            "Dimensions: 384\n",
            "Similarity between sentences 1&2: 0.752\n",
            "\n",
            "Testing all-MiniLM-L12-v2\n",
            "Description: Slightly larger, better quality (33MB)\n"
          ]
        },
        {
          "data": {
            "application/vnd.jupyter.widget-view+json": {
              "model_id": "033f895dffd74728a454a221c4629ee4",
              "version_major": 2,
              "version_minor": 0
            },
            "text/plain": [
              "Batches:   0%|          | 0/1 [00:00<?, ?it/s]"
            ]
          },
          "metadata": {},
          "output_type": "display_data"
        },
        {
          "name": "stderr",
          "output_type": "stream",
          "text": [
            "INFO:sentence_transformers.SentenceTransformer:Use pytorch device_name: mps\n",
            "INFO:sentence_transformers.SentenceTransformer:Load pretrained SentenceTransformer: all-mpnet-base-v2\n"
          ]
        },
        {
          "name": "stdout",
          "output_type": "stream",
          "text": [
            "Loaded in 1.19s\n",
            "Encoded in 0.03s\n",
            "Dimensions: 384\n",
            "Similarity between sentences 1&2: 0.758\n",
            "\n",
            "Testing all-mpnet-base-v2\n",
            "Description: High quality, balanced (420MB)\n"
          ]
        },
        {
          "data": {
            "application/vnd.jupyter.widget-view+json": {
              "model_id": "85c7aa17c1f14723b1ab5aeb2bff9132",
              "version_major": 2,
              "version_minor": 0
            },
            "text/plain": [
              "Batches:   0%|          | 0/1 [00:00<?, ?it/s]"
            ]
          },
          "metadata": {},
          "output_type": "display_data"
        },
        {
          "name": "stdout",
          "output_type": "stream",
          "text": [
            "Loaded in 1.38s\n",
            "Encoded in 0.08s\n",
            "Dimensions: 768\n",
            "Similarity between sentences 1&2: 0.776\n",
            "\n",
            "==================================================\n",
            "Performance Comparison\n",
            "==================================================\n",
            "\n",
            "all-MiniLM-L6-v2:\n",
            "  Dimensions: 384\n",
            "  Load time: 1.33s\n",
            "  Encode time: 0.04s\n",
            "  Similarity (1&2): 0.752\n",
            "  Similarity (3&4): 0.455\n",
            "\n",
            "all-MiniLM-L12-v2:\n",
            "  Dimensions: 384\n",
            "  Load time: 1.19s\n",
            "  Encode time: 0.03s\n",
            "  Similarity (1&2): 0.758\n",
            "  Similarity (3&4): 0.420\n",
            "\n",
            "all-mpnet-base-v2:\n",
            "  Dimensions: 768\n",
            "  Load time: 1.38s\n",
            "  Encode time: 0.08s\n",
            "  Similarity (1&2): 0.776\n",
            "  Similarity (3&4): 0.291\n",
            "\n",
            "==================================================\n",
            "Manual Cosine Similarity Calculation\n",
            "==================================================\n",
            "Using all-MiniLM-L6-v2 embeddings for manual calculation:\n",
            "Vector 1 shape: (384,)\n",
            "Vector 2 shape: (384,)\n",
            "\n",
            "Manual Calculation:\n",
            "1. Dot product: 0.752\n",
            "2. Magnitude 1: 1.000\n",
            "3. Magnitude 2: 1.000\n",
            "4. Cosine similarity: 0.752\n",
            "\n",
            "Sklearn result: 0.752\n",
            "Difference: 0.000000\n",
            "\n",
            "==================================================\n",
            "Key Takeaways\n",
            "==================================================\n",
            "1. Different models have different trade-offs between speed and quality\n",
            "2. Cosine similarity measures the angle between vectors, not their magnitude\n",
            "3. Values closer to 1 mean more similar, closer to 0 means less similar\n",
            "4. The mathematical formula is: cos(θ) = (A·B) / (||A|| × ||B||)\n",
            "5. For RAG systems, you need to balance speed, quality, and cost\n"
          ]
        }
      ],
      "source": [
        "# Let's explore different embedding models and see how they compare\n",
        "import numpy as np\n",
        "from sentence_transformers import SentenceTransformer\n",
        "from sklearn.metrics.pairwise import cosine_similarity\n",
        "import time\n",
        "\n",
        "print(\"Exploring Different Embedding Models\")\n",
        "print(\"=\" * 50)\n",
        "\n",
        "# Test sentences\n",
        "test_sentences = [\n",
        "    \"Machine learning is a subset of artificial intelligence\",\n",
        "    \"AI includes machine learning as one of its branches\", \n",
        "    \"The weather is sunny today\",\n",
        "    \"It's raining outside\"\n",
        "]\n",
        "\n",
        "print(\"Test sentences:\")\n",
        "for i, sentence in enumerate(test_sentences):\n",
        "    print(f\"{i+1}. {sentence}\")\n",
        "\n",
        "print(\"\\n\" + \"=\"*50)\n",
        "\n",
        "# Let's try different models and compare their performance\n",
        "models_to_test = [\n",
        "    (\"all-MiniLM-L6-v2\", \"Small, fast model (22MB)\"),\n",
        "    (\"all-MiniLM-L12-v2\", \"Slightly larger, better quality (33MB)\"),\n",
        "    (\"all-mpnet-base-v2\", \"High quality, balanced (420MB)\")\n",
        "]\n",
        "\n",
        "results = {}\n",
        "\n",
        "for model_name, description in models_to_test:\n",
        "    print(f\"\\nTesting {model_name}\")\n",
        "    print(f\"Description: {description}\")\n",
        "    \n",
        "    try:\n",
        "        # Load model and measure time\n",
        "        start_time = time.time()\n",
        "        model = SentenceTransformer(model_name)\n",
        "        load_time = time.time() - start_time\n",
        "        \n",
        "        # Create embeddings and measure time\n",
        "        start_time = time.time()\n",
        "        embeddings = model.encode(test_sentences)\n",
        "        encode_time = time.time() - start_time\n",
        "        \n",
        "        # Calculate similarities\n",
        "        similarities = cosine_similarity(embeddings)\n",
        "        \n",
        "        # Store results\n",
        "        results[model_name] = {\n",
        "            'embeddings': embeddings,\n",
        "            'similarities': similarities,\n",
        "            'load_time': load_time,\n",
        "            'encode_time': encode_time,\n",
        "            'dimensions': embeddings.shape[1]\n",
        "        }\n",
        "        \n",
        "        print(f\"Loaded in {load_time:.2f}s\")\n",
        "        print(f\"Encoded in {encode_time:.2f}s\")\n",
        "        print(f\"Dimensions: {embeddings.shape[1]}\")\n",
        "        \n",
        "        # Show similarity between first two sentences (should be high)\n",
        "        sim_score = similarities[0][1]\n",
        "        print(f\"Similarity between sentences 1&2: {sim_score:.3f}\")\n",
        "        \n",
        "    except Exception as e:\n",
        "        print(f\"Error loading {model_name}: {e}\")\n",
        "\n",
        "print(\"\\n\" + \"=\"*50)\n",
        "print(\"Performance Comparison\")\n",
        "print(\"=\"*50)\n",
        "\n",
        "# Compare results\n",
        "for model_name, result in results.items():\n",
        "    print(f\"\\n{model_name}:\")\n",
        "    print(f\"  Dimensions: {result['dimensions']}\")\n",
        "    print(f\"  Load time: {result['load_time']:.2f}s\")\n",
        "    print(f\"  Encode time: {result['encode_time']:.2f}s\")\n",
        "    print(f\"  Similarity (1&2): {result['similarities'][0][1]:.3f}\")\n",
        "    print(f\"  Similarity (3&4): {result['similarities'][2][3]:.3f}\")\n",
        "\n",
        "print(\"\\n\" + \"=\"*50)\n",
        "print(\"Manual Cosine Similarity Calculation\")\n",
        "print(\"=\"*50)\n",
        "\n",
        "# Let's manually calculate cosine similarity for educational purposes\n",
        "def manual_cosine_similarity(vec1, vec2):\n",
        "    \"\"\"Calculate cosine similarity manually for educational purposes.\"\"\"\n",
        "    # Step 1: Calculate dot product\n",
        "    dot_product = np.dot(vec1, vec2)\n",
        "    \n",
        "    # Step 2: Calculate magnitudes\n",
        "    magnitude1 = np.sqrt(np.sum(vec1**2))\n",
        "    magnitude2 = np.sqrt(np.sum(vec2**2))\n",
        "    \n",
        "    # Step 3: Calculate cosine similarity\n",
        "    cosine_sim = dot_product / (magnitude1 * magnitude2)\n",
        "    \n",
        "    return dot_product, magnitude1, magnitude2, cosine_sim\n",
        "\n",
        "# Use the first model's embeddings for demonstration\n",
        "if results:\n",
        "    model_name = list(results.keys())[0]\n",
        "    embeddings = results[model_name]['embeddings']\n",
        "    \n",
        "    print(f\"Using {model_name} embeddings for manual calculation:\")\n",
        "    print(f\"Vector 1 shape: {embeddings[0].shape}\")\n",
        "    print(f\"Vector 2 shape: {embeddings[1].shape}\")\n",
        "    \n",
        "    # Calculate manually\n",
        "    dot_prod, mag1, mag2, cos_sim = manual_cosine_similarity(embeddings[0], embeddings[1])\n",
        "    \n",
        "    print(f\"\\nManual Calculation:\")\n",
        "    print(f\"1. Dot product: {dot_prod:.3f}\")\n",
        "    print(f\"2. Magnitude 1: {mag1:.3f}\")\n",
        "    print(f\"3. Magnitude 2: {mag2:.3f}\")\n",
        "    print(f\"4. Cosine similarity: {cos_sim:.3f}\")\n",
        "    \n",
        "    # Compare with sklearn\n",
        "    sklearn_sim = cosine_similarity([embeddings[0]], [embeddings[1]])[0][0]\n",
        "    print(f\"\\nSklearn result: {sklearn_sim:.3f}\")\n",
        "    print(f\"Difference: {abs(cos_sim - sklearn_sim):.6f}\")\n",
        "\n",
        "print(\"\\n\" + \"=\"*50)\n",
        "print(\"Key Takeaways\")\n",
        "print(\"=\"*50)\n",
        "print(\"1. Different models have different trade-offs between speed and quality\")\n",
        "print(\"2. Cosine similarity measures the angle between vectors, not their magnitude\")\n",
        "print(\"3. Values closer to 1 mean more similar, closer to 0 means less similar\")\n",
        "print(\"4. The mathematical formula is: cos(θ) = (A·B) / (||A|| × ||B||)\")\n",
        "print(\"5. For RAG systems, you need to balance speed, quality, and cost\")\n"
      ]
    },
    {
      "cell_type": "code",
      "execution_count": 8,
      "metadata": {},
      "outputs": [
        {
          "name": "stderr",
          "output_type": "stream",
          "text": [
            "INFO:sentence_transformers.SentenceTransformer:Use pytorch device_name: mps\n",
            "INFO:sentence_transformers.SentenceTransformer:Load pretrained SentenceTransformer: all-MiniLM-L6-v2\n"
          ]
        },
        {
          "name": "stdout",
          "output_type": "stream",
          "text": [
            "Loading embedding model...\n",
            "Creating embeddings for our example sentences...\n"
          ]
        },
        {
          "data": {
            "application/vnd.jupyter.widget-view+json": {
              "model_id": "db1d132d9024453b8c65a548255c1289",
              "version_major": 2,
              "version_minor": 0
            },
            "text/plain": [
              "Batches:   0%|          | 0/1 [00:00<?, ?it/s]"
            ]
          },
          "metadata": {},
          "output_type": "display_data"
        },
        {
          "name": "stdout",
          "output_type": "stream",
          "text": [
            "Created embeddings with shape: (6, 384)\n",
            "Each sentence is now represented by 384 numbers\n",
            "\n",
            "First sentence embedding (first 10 values): [ 0.13040185 -0.01187016 -0.02811701  0.05123867 -0.05597443  0.03019156\n",
            "  0.03016133  0.02469836 -0.01837048  0.05876683]\n",
            "Second sentence embedding (first 10 values): [0.07218208 0.04459076 0.05393586 0.12767875 0.00213373 0.0587419\n",
            " 0.02538777 0.00386503 0.0101001  0.0319241 ]\n",
            "\n",
            "Similarity matrix (higher = more similar):\n",
            "0: It's raining outside\n",
            "1: It's raining outside\n",
            "2: It's raining outside\n",
            "3: It's raining outside\n",
            "4: It's raining outside\n",
            "5: It's raining outside\n",
            "\n",
            "Similarity scores:\n",
            "'The cat sat on the m...' vs 'A feline rested on t...': 0.564\n",
            "'The cat sat on the m...' vs 'Dogs are loyal pets...': 0.215\n",
            "'The cat sat on the m...' vs 'Cats and dogs are di...': 0.319\n",
            "'The cat sat on the m...' vs 'The weather is nice ...': 0.013\n",
            "'The cat sat on the m...' vs 'It's sunny outside...': 0.032\n",
            "'A feline rested on t...' vs 'Dogs are loyal pets...': 0.340\n",
            "'A feline rested on t...' vs 'Cats and dogs are di...': 0.399\n",
            "'A feline rested on t...' vs 'The weather is nice ...': 0.073\n",
            "'A feline rested on t...' vs 'It's sunny outside...': 0.117\n",
            "'Dogs are loyal pets...' vs 'Cats and dogs are di...': 0.573\n",
            "'Dogs are loyal pets...' vs 'The weather is nice ...': 0.014\n",
            "'Dogs are loyal pets...' vs 'It's sunny outside...': 0.024\n",
            "'Cats and dogs are di...' vs 'The weather is nice ...': 0.015\n",
            "'Cats and dogs are di...' vs 'It's sunny outside...': 0.027\n",
            "'The weather is nice ...' vs 'It's sunny outside...': 0.562\n"
          ]
        }
      ],
      "source": [
        "# Let's create a simple example to understand embeddings\n",
        "from sentence_transformers import SentenceTransformer\n",
        "from sklearn.metrics.pairwise import cosine_similarity\n",
        "# We'll use a lightweight embedding model for demonstration\n",
        "print(\"Loading embedding model...\")\n",
        "model = SentenceTransformer('all-MiniLM-L6-v2')  # Small, fast model for learning\n",
        "\n",
        "# Let's create some example sentences\n",
        "sentences = [\n",
        "    \"The cat sat on the mat\",\n",
        "    \"A feline rested on the rug\", \n",
        "    \"Dogs are loyal pets\",\n",
        "    \"Cats and dogs are different animals\",\n",
        "    \"The weather is nice today\",\n",
        "    \"It's sunny outside\"\n",
        "]\n",
        "\n",
        "print(\"Creating embeddings for our example sentences...\")\n",
        "embeddings = model.encode(sentences)\n",
        "\n",
        "print(f\"Created embeddings with shape: {embeddings.shape}\")\n",
        "print(f\"Each sentence is now represented by {embeddings.shape[1]} numbers\")\n",
        "\n",
        "# Let's see what these numbers look like\n",
        "print(f\"\\nFirst sentence embedding (first 10 values): {embeddings[0][:10]}\")\n",
        "print(f\"Second sentence embedding (first 10 values): {embeddings[1][:10]}\")\n",
        "\n",
        "# Calculate similarities\n",
        "similarities = cosine_similarity(embeddings)\n",
        "\n",
        "print(\"\\nSimilarity matrix (higher = more similar):\")\n",
        "for i in range(len(embeddings)):\n",
        "    print(f\"{i}: {sentence}\")\n",
        "\n",
        "print(\"\\nSimilarity scores:\")\n",
        "for i in range(len(sentences)):\n",
        "    for j in range(i+1, len(sentences)):\n",
        "        sim = similarities[i][j]\n",
        "        print(f\"'{sentences[i][:20]}...' vs '{sentences[j][:20]}...': {sim:.3f}\")\n"
      ]
    },
    {
      "cell_type": "code",
      "execution_count": 9,
      "metadata": {},
      "outputs": [
        {
          "name": "stdout",
          "output_type": "stream",
          "text": [
            "Visualizing Embeddings\n",
            "==================================================\n",
            "Visualizing all-MiniLM-L6-v2 embeddings...\n"
          ]
        },
        {
          "data": {
            "image/png": "[encoded data removed]",
            "text/plain": [
              "<Figure size 1500x600 with 3 Axes>"
            ]
          },
          "metadata": {},
          "output_type": "display_data"
        },
        {
          "name": "stdout",
          "output_type": "stream",
          "text": [
            "\n",
            "Interpretation:\n",
            "• Points closer together in the left plot are more similar\n",
            "• Red (S1) and Blue (S2) should be close - they're about ML/AI\n",
            "• Green (S3) and Orange (S4) should be close - they're about weather\n",
            "• The heatmap shows similarity scores between all pairs\n",
            "• Higher values (closer to 1) = more similar\n",
            "\n",
            " Actual Distances in 2D space:\n",
            "S1 ↔ S2: Distance=0.033, Similarity=0.752\n",
            "S1 ↔ S3: Distance=1.373, Similarity=-0.009\n",
            "S1 ↔ S4: Distance=1.349, Similarity=0.031\n",
            "S2 ↔ S3: Distance=1.396, Similarity=-0.031\n",
            "S2 ↔ S4: Distance=1.349, Similarity=0.026\n",
            "S3 ↔ S4: Distance=1.044, Similarity=0.455\n",
            "\n",
            "==================================================\n",
            "Educational Summary\n",
            "==================================================\n",
            "\n",
            "What we learned about embedding models:\n",
            "\n",
            "1. **Model Types**:\n",
            "   - Sentence Transformers: Best for RAG (what we use)\n",
            "   - Word Embeddings: For individual words\n",
            "   - Contextual Embeddings: For context-aware understanding\n",
            "\n",
            "2. **Popular Models**:\n",
            "   - all-MiniLM-L6-v2: Small, fast, good for learning\n",
            "   - all-mpnet-base-v2: Balanced quality and speed\n",
            "   - BAAI/bge-base-en-v1.5: Excellent for production RAG\n",
            "   - OpenAI's text-embedding-3-large: Best quality, but expensive\n",
            "\n",
            "3. **Big Company Choices**:\n",
            "   - OpenAI: Uses their own API models\n",
            "   - Meta/Facebook: Often uses sentence-transformers\n",
            "   - Google: Universal Sentence Encoder\n",
            "   - Microsoft: Azure OpenAI or custom models\n",
            "\n",
            "4. **Cosine Similarity Formula**:\n",
            "   cos(θ) = (A · B) / (||A|| × ||B||)\n",
            "   \n",
            "5. **Why Cosine Similarity**:\n",
            "   - Scale invariant (ignores vector length)\n",
            "   - Range from -1 to 1 (intuitive)\n",
            "   - Fast to compute\n",
            "   - Measures angle between vectors\n",
            "\n",
            "6. **Choosing a Model**:\n",
            "   - Learning: all-MiniLM-L6-v2 (small, fast)\n",
            "   - Production: BAAI/bge-base-en-v1.5 (good quality)\n",
            "   - Enterprise: OpenAI API (best quality, but costs money)\n",
            "\n"
          ]
        }
      ],
      "source": [
        "# Let's visualize the embeddings to better understand how they work\n",
        "import matplotlib.pyplot as plt\n",
        "from sklearn.decomposition import PCA\n",
        "import seaborn as sns\n",
        "\n",
        "print(\"Visualizing Embeddings\")\n",
        "print(\"=\" * 50)\n",
        "\n",
        "# Use the first available model for visualization\n",
        "if results:\n",
        "    model_name = list(results.keys())[0]\n",
        "    embeddings = results[model_name]['embeddings']\n",
        "    similarities = results[model_name]['similarities']\n",
        "    \n",
        "    print(f\"Visualizing {model_name} embeddings...\")\n",
        "    \n",
        "    # Reduce dimensions to 2D for visualization\n",
        "    pca = PCA(n_components=2)\n",
        "    embeddings_2d = pca.fit_transform(embeddings)\n",
        "    \n",
        "    # Create the visualization\n",
        "    fig, (ax1, ax2) = plt.subplots(1, 2, figsize=(15, 6))\n",
        "    \n",
        "    # Plot 1: 2D scatter plot of embeddings\n",
        "    colors = ['red', 'blue', 'green', 'orange']\n",
        "    for i, (x, y) in enumerate(embeddings_2d):\n",
        "        ax1.scatter(x, y, c=colors[i], s=200, alpha=0.7)\n",
        "        ax1.annotate(f'{i+1}', (x, y), xytext=(5, 5), textcoords='offset points', fontsize=12, fontweight='bold')\n",
        "    \n",
        "    ax1.set_title(f'2D Projection of Embeddings\\n({model_name})', fontsize=14, fontweight='bold')\n",
        "    ax1.set_xlabel('First Principal Component')\n",
        "    ax1.set_ylabel('Second Principal Component')\n",
        "    ax1.grid(True, alpha=0.3)\n",
        "    \n",
        "    # Add sentence labels\n",
        "    for i, sentence in enumerate(test_sentences):\n",
        "        ax1.text(0.02, 0.98 - i*0.15, f'{i+1}. {sentence[:30]}...', \n",
        "                transform=ax1.transAxes, fontsize=10, \n",
        "                bbox=dict(boxstyle=\"round,pad=0.3\", facecolor=colors[i], alpha=0.3))\n",
        "    \n",
        "    # Plot 2: Similarity heatmap\n",
        "    im = ax2.imshow(similarities, cmap='RdYlBu_r', vmin=0, vmax=1)\n",
        "    ax2.set_title('Cosine Similarity Matrix', fontsize=14, fontweight='bold')\n",
        "    ax2.set_xlabel('Sentence Index')\n",
        "    ax2.set_ylabel('Sentence Index')\n",
        "    \n",
        "    # Add similarity values to the heatmap\n",
        "    for i in range(len(test_sentences)):\n",
        "        for j in range(len(test_sentences)):\n",
        "            text = ax2.text(j, i, f'{similarities[i, j]:.2f}',\n",
        "                           ha=\"center\", va=\"center\", color=\"black\", fontweight='bold')\n",
        "    \n",
        "    # Set tick labels\n",
        "    ax2.set_xticks(range(len(test_sentences)))\n",
        "    ax2.set_yticks(range(len(test_sentences)))\n",
        "    ax2.set_xticklabels([f'S{i+1}' for i in range(len(test_sentences))])\n",
        "    ax2.set_yticklabels([f'S{i+1}' for i in range(len(test_sentences))])\n",
        "    \n",
        "    # Add colorbar\n",
        "    cbar = plt.colorbar(im, ax=ax2)\n",
        "    cbar.set_label('Cosine Similarity', rotation=270, labelpad=20)\n",
        "    \n",
        "    plt.tight_layout()\n",
        "    plt.show()\n",
        "    \n",
        "    # Print interpretation\n",
        "    print(f\"\\nInterpretation:\")\n",
        "    print(f\"• Points closer together in the left plot are more similar\")\n",
        "    print(f\"• Red (S1) and Blue (S2) should be close - they're about ML/AI\")\n",
        "    print(f\"• Green (S3) and Orange (S4) should be close - they're about weather\")\n",
        "    print(f\"• The heatmap shows similarity scores between all pairs\")\n",
        "    print(f\"• Higher values (closer to 1) = more similar\")\n",
        "    \n",
        "    # Show the actual distances\n",
        "    print(f\"\\n Actual Distances in 2D space:\")\n",
        "    for i in range(len(test_sentences)):\n",
        "        for j in range(i+1, len(test_sentences)):\n",
        "            dist = np.linalg.norm(embeddings_2d[i] - embeddings_2d[j])\n",
        "            sim = similarities[i][j]\n",
        "            print(f\"S{i+1} ↔ S{j+1}: Distance={dist:.3f}, Similarity={sim:.3f}\")\n",
        "\n",
        "else:\n",
        "    print(\"No model results available for visualization\")\n",
        "\n",
        "print(\"\\n\" + \"=\"*50)\n",
        "print(\"Educational Summary\")\n",
        "print(\"=\"*50)\n",
        "print(\"\"\"\n",
        "What we learned about embedding models:\n",
        "\n",
        "1. **Model Types**:\n",
        "   - Sentence Transformers: Best for RAG (what we use)\n",
        "   - Word Embeddings: For individual words\n",
        "   - Contextual Embeddings: For context-aware understanding\n",
        "\n",
        "2. **Popular Models**:\n",
        "   - all-MiniLM-L6-v2: Small, fast, good for learning\n",
        "   - all-mpnet-base-v2: Balanced quality and speed\n",
        "   - BAAI/bge-base-en-v1.5: Excellent for production RAG\n",
        "   - OpenAI's text-embedding-3-large: Best quality, but expensive\n",
        "\n",
        "3. **Big Company Choices**:\n",
        "   - OpenAI: Uses their own API models\n",
        "   - Meta/Facebook: Often uses sentence-transformers\n",
        "   - Google: Universal Sentence Encoder\n",
        "   - Microsoft: Azure OpenAI or custom models\n",
        "\n",
        "4. **Cosine Similarity Formula**:\n",
        "   cos(θ) = (A · B) / (||A|| × ||B||)\n",
        "   \n",
        "5. **Why Cosine Similarity**:\n",
        "   - Scale invariant (ignores vector length)\n",
        "   - Range from -1 to 1 (intuitive)\n",
        "   - Fast to compute\n",
        "   - Measures angle between vectors\n",
        "\n",
        "6. **Choosing a Model**:\n",
        "   - Learning: all-MiniLM-L6-v2 (small, fast)\n",
        "   - Production: BAAI/bge-base-en-v1.5 (good quality)\n",
        "   - Enterprise: OpenAI API (best quality, but costs money)\n",
        "\"\"\")\n"
      ]
    },
    {
      "cell_type": "markdown",
      "metadata": {},
      "source": [
        "## Step 2: Visualizing Embeddings\n",
        "\n",
        "Let's visualize these embeddings to see how similar sentences cluster together. This will help you understand how the system \"sees\" text relationships.\n"
      ]
    },
    {
      "cell_type": "code",
      "execution_count": 10,
      "metadata": {},
      "outputs": [
        {
          "name": "stdout",
          "output_type": "stream",
          "text": [
            "Reducing dimensions for visualization...\n"
          ]
        },
        {
          "name": "stderr",
          "output_type": "stream",
          "text": [
            "huggingface/tokenizers: The current process just got forked, after parallelism has already been used. Disabling parallelism to avoid deadlocks...\n",
            "To disable this warning, you can either:\n",
            "\t- Avoid using `tokenizers` before the fork if possible\n",
            "\t- Explicitly set the environment variable TOKENIZERS_PARALLELISM=(true | false)\n"
          ]
        },
        {
          "data": {
            "image/png": "[encoded data removed]",
            "text/plain": [
              "<Figure size 1200x800 with 1 Axes>"
            ]
          },
          "metadata": {},
          "output_type": "display_data"
        },
        {
          "data": {
            "image/png": "[encoded data removed]",
            "text/plain": [
              "<Figure size 1000x800 with 2 Axes>"
            ]
          },
          "metadata": {},
          "output_type": "display_data"
        },
        {
          "name": "stdout",
          "output_type": "stream",
          "text": [
            "\n",
            "Key Insights:\n",
            "1. Sentences about cats are more similar to each other than to weather sentences\n",
            "2. The embedding model understands semantic similarity, not just word overlap\n",
            "3. This is how RAG systems find relevant documents - by similarity in embedding space!\n"
          ]
        }
      ],
      "source": [
        "# Visualize embeddings using dimensionality reduction\n",
        "from sklearn.manifold import TSNE\n",
        "import matplotlib.pyplot as plt\n",
        "\n",
        "# Reduce dimensions from 384 to 2 for visualization\n",
        "print(\"Reducing dimensions for visualization...\")\n",
        "tsne = TSNE(n_components=2, random_state=42, perplexity = min(3, len(sentences)-1) if len(sentences) > 3 else 1)\n",
        "embeddings_2d = tsne.fit_transform(embeddings)\n",
        "\n",
        "# Create the plot\n",
        "plt.figure(figsize=(12, 8))\n",
        "\n",
        "# Plot each sentence as a point\n",
        "for i in range(len(embeddings_2d)):\n",
        "    plt.scatter(embeddings_2d[i, 0], embeddings_2d[i, 1], s=200, alpha=0.7)\n",
        "    plt.annotate(sentences[i], (embeddings_2d[i, 0], embeddings_2d[i, 1]), \n",
        "                xytext=(5, 5), textcoords='offset points', fontsize=10)\n",
        "\n",
        "plt.title('Embedding Visualization: Similar Sentences Cluster Together')\n",
        "plt.xlabel('Dimension 1')\n",
        "plt.ylabel('Dimension 2')\n",
        "plt.grid(True, alpha=0.3)\n",
        "\n",
        "# Add some insight\n",
        "plt.figtext(0.5, 0.02, \n",
        "           'Notice how \"cat\" sentences are close together, and \"weather\" sentences are close together!', \n",
        "           ha='center', fontsize=12, style='italic')\n",
        "\n",
        "plt.tight_layout()\n",
        "plt.show()\n",
        "\n",
        "# Let's also create a heatmap of similarities\n",
        "plt.figure(figsize=(10, 8))\n",
        "sns.heatmap(similarities, annot=True, cmap='YlOrRd', \n",
        "           xticklabels=[f\"S{i}\" for i in range(len(sentences))],\n",
        "           yticklabels=[f\"S{i}\" for i in range(len(sentences))])\n",
        "plt.title('Similarity Heatmap')\n",
        "plt.show()\n",
        "\n",
        "print(\"\\nKey Insights:\")\n",
        "print(\"1. Sentences about cats are more similar to each other than to weather sentences\")\n",
        "print(\"2. The embedding model understands semantic similarity, not just word overlap\")\n",
        "print(\"3. This is how RAG systems find relevant documents - by similarity in embedding space!\")\n"
      ]
    },
    {
      "cell_type": "markdown",
      "metadata": {},
      "source": [
        "## Step 3: Building a Simple Retrieval System\n",
        "\n",
        "Now let's build a mini retrieval system to see how this works in practice. We'll create a small \"knowledge base\" and see how we can find relevant information.\n"
      ]
    },
    {
      "cell_type": "code",
      "execution_count": 11,
      "metadata": {},
      "outputs": [
        {
          "name": "stdout",
          "output_type": "stream",
          "text": [
            "Our Knowledge Base:\n",
            "1. Cats are small, typically furry, carnivorous mammals. They are often kept as house pets.\n",
            "2. Dogs are domesticated mammals that have been selectively bred over thousands of years.\n",
            "3. The weather forecast predicts rain for tomorrow with temperatures around 15 degrees Celsius.\n",
            "4. Machine learning is a subset of artificial intelligence that focuses on algorithms that can learn from data.\n",
            "5. Python is a high-level programming language known for its simplicity and readability.\n",
            "6. The solar system consists of eight planets orbiting around the sun.\n",
            "7. Cats communicate through various vocalizations including meowing, purring, and hissing.\n",
            "8. Dogs are known for their loyalty and are often called 'man's best friend'.\n",
            "9. Deep learning uses neural networks with multiple layers to process complex data patterns.\n",
            "10. Jupiter is the largest planet in our solar system and has a Great Red Spot.\n",
            "\n",
            "Creating embeddings for knowledge base...\n"
          ]
        },
        {
          "data": {
            "application/vnd.jupyter.widget-view+json": {
              "model_id": "fb21f296bcab434db0a70ed35bf48f23",
              "version_major": 2,
              "version_minor": 0
            },
            "text/plain": [
              "Batches:   0%|          | 0/1 [00:00<?, ?it/s]"
            ]
          },
          "metadata": {},
          "output_type": "display_data"
        },
        {
          "name": "stdout",
          "output_type": "stream",
          "text": [
            "Knowledge base embeddings shape: (10, 384)\n",
            "\n",
            "============================================================\n",
            "TESTING OUR RETRIEVAL SYSTEM\n",
            "============================================================\n",
            "\n",
            "Query: 'Tell me about cats'\n",
            "----------------------------------------\n"
          ]
        },
        {
          "data": {
            "application/vnd.jupyter.widget-view+json": {
              "model_id": "05919cc50cac4b6b868072afbf9b9e75",
              "version_major": 2,
              "version_minor": 0
            },
            "text/plain": [
              "Batches:   0%|          | 0/1 [00:00<?, ?it/s]"
            ]
          },
          "metadata": {},
          "output_type": "display_data"
        },
        {
          "name": "stdout",
          "output_type": "stream",
          "text": [
            "Rank 1 (Similarity: 0.618): Cats are small, typically furry, carnivorous mammals. They are often kept as house pets.\n",
            "Rank 2 (Similarity: 0.527): Cats communicate through various vocalizations including meowing, purring, and hissing.\n",
            "Rank 3 (Similarity: 0.354): Dogs are domesticated mammals that have been selectively bred over thousands of years.\n",
            "\n",
            "\n",
            "Query: 'What is machine learning?'\n",
            "----------------------------------------\n"
          ]
        },
        {
          "data": {
            "application/vnd.jupyter.widget-view+json": {
              "model_id": "60879968158747d683efcf70817ba10e",
              "version_major": 2,
              "version_minor": 0
            },
            "text/plain": [
              "Batches:   0%|          | 0/1 [00:00<?, ?it/s]"
            ]
          },
          "metadata": {},
          "output_type": "display_data"
        },
        {
          "name": "stdout",
          "output_type": "stream",
          "text": [
            "Rank 1 (Similarity: 0.832): Machine learning is a subset of artificial intelligence that focuses on algorithms that can learn from data.\n",
            "Rank 2 (Similarity: 0.445): Deep learning uses neural networks with multiple layers to process complex data patterns.\n",
            "Rank 3 (Similarity: 0.242): Python is a high-level programming language known for its simplicity and readability.\n",
            "\n",
            "\n",
            "Query: 'Information about planets'\n",
            "----------------------------------------\n"
          ]
        },
        {
          "data": {
            "application/vnd.jupyter.widget-view+json": {
              "model_id": "3f1f138ba77746f894c0962682fc29d0",
              "version_major": 2,
              "version_minor": 0
            },
            "text/plain": [
              "Batches:   0%|          | 0/1 [00:00<?, ?it/s]"
            ]
          },
          "metadata": {},
          "output_type": "display_data"
        },
        {
          "name": "stdout",
          "output_type": "stream",
          "text": [
            "Rank 1 (Similarity: 0.603): The solar system consists of eight planets orbiting around the sun.\n",
            "Rank 2 (Similarity: 0.516): Jupiter is the largest planet in our solar system and has a Great Red Spot.\n",
            "Rank 3 (Similarity: 0.228): Machine learning is a subset of artificial intelligence that focuses on algorithms that can learn from data.\n",
            "\n",
            "\n",
            "Query: 'Dog behavior and characteristics'\n",
            "----------------------------------------\n"
          ]
        },
        {
          "data": {
            "application/vnd.jupyter.widget-view+json": {
              "model_id": "519c9514f69240dbaff53121a2e19880",
              "version_major": 2,
              "version_minor": 0
            },
            "text/plain": [
              "Batches:   0%|          | 0/1 [00:00<?, ?it/s]"
            ]
          },
          "metadata": {},
          "output_type": "display_data"
        },
        {
          "name": "stdout",
          "output_type": "stream",
          "text": [
            "Rank 1 (Similarity: 0.503): Dogs are known for their loyalty and are often called 'man's best friend'.\n",
            "Rank 2 (Similarity: 0.443): Dogs are domesticated mammals that have been selectively bred over thousands of years.\n",
            "Rank 3 (Similarity: 0.372): Cats communicate through various vocalizations including meowing, purring, and hissing.\n",
            "\n"
          ]
        }
      ],
      "source": [
        "# Let's create a simple knowledge base\n",
        "knowledge_base = [\n",
        "    \"Cats are small, typically furry, carnivorous mammals. They are often kept as house pets.\",\n",
        "    \"Dogs are domesticated mammals that have been selectively bred over thousands of years.\",\n",
        "    \"The weather forecast predicts rain for tomorrow with temperatures around 15 degrees Celsius.\",\n",
        "    \"Machine learning is a subset of artificial intelligence that focuses on algorithms that can learn from data.\",\n",
        "    \"Python is a high-level programming language known for its simplicity and readability.\",\n",
        "    \"The solar system consists of eight planets orbiting around the sun.\",\n",
        "    \"Cats communicate through various vocalizations including meowing, purring, and hissing.\",\n",
        "    \"Dogs are known for their loyalty and are often called 'man's best friend'.\",\n",
        "    \"Deep learning uses neural networks with multiple layers to process complex data patterns.\",\n",
        "    \"Jupiter is the largest planet in our solar system and has a Great Red Spot.\"\n",
        "]\n",
        "\n",
        "print(\"Our Knowledge Base:\")\n",
        "for i, fact in enumerate(knowledge_base):\n",
        "    print(f\"{i+1}. {fact}\")\n",
        "\n",
        "# Create embeddings for our knowledge base\n",
        "print(\"\\nCreating embeddings for knowledge base...\")\n",
        "kb_embeddings = model.encode(knowledge_base)\n",
        "\n",
        "print(f\"Knowledge base embeddings shape: {kb_embeddings.shape}\")\n",
        "\n",
        "# Function to find most relevant documents\n",
        "def find_relevant_docs(query, knowledge_base, kb_embeddings, model, top_k=3):\n",
        "    \"\"\"\n",
        "    Find the most relevant documents for a given query.\n",
        "    \"\"\"\n",
        "    # Encode the query\n",
        "    query_embedding = model.encode([query])\n",
        "    \n",
        "    # Calculate similarities\n",
        "    similarities = cosine_similarity(query_embedding, kb_embeddings)[0]\n",
        "    \n",
        "    # Get top-k most similar documents\n",
        "    top_indices = np.argsort(similarities)[::-1][:top_k]\n",
        "    \n",
        "    results = []\n",
        "    for i, idx in enumerate(top_indices):\n",
        "        results.append({\n",
        "            'rank': i + 1,\n",
        "            'similarity': similarities[idx],\n",
        "            'document': knowledge_base[idx]\n",
        "        })\n",
        "    \n",
        "    return results\n",
        "\n",
        "# Test our retrieval system\n",
        "test_queries = [\n",
        "    \"Tell me about cats\",\n",
        "    \"What is machine learning?\",\n",
        "    \"Information about planets\",\n",
        "    \"Dog behavior and characteristics\"\n",
        "]\n",
        "\n",
        "print(\"\\n\" + \"=\"*60)\n",
        "print(\"TESTING OUR RETRIEVAL SYSTEM\")\n",
        "print(\"=\"*60)\n",
        "\n",
        "for query in test_queries:\n",
        "    print(f\"\\nQuery: '{query}'\")\n",
        "    print(\"-\" * 40)\n",
        "    \n",
        "    results = find_relevant_docs(query, knowledge_base, kb_embeddings, model)\n",
        "    \n",
        "    for result in results:\n",
        "        print(f\"Rank {result['rank']} (Similarity: {result['similarity']:.3f}): {result['document']}\")\n",
        "    \n",
        "    print()\n"
      ]
    },
    {
      "cell_type": "markdown",
      "metadata": {},
      "source": [
        "## Step 4: Interactive Query Testing\n",
        "\n",
        "Let's make this interactive! You can test your own queries and see how well our simple retrieval system works.\n"
      ]
    },
    {
      "cell_type": "code",
      "execution_count": 12,
      "metadata": {},
      "outputs": [
        {
          "name": "stdout",
          "output_type": "stream",
          "text": [
            "Demo: Testing more queries\n",
            "==============================\n",
            "\n",
            "Query: 'How do cats communicate?'\n"
          ]
        },
        {
          "data": {
            "application/vnd.jupyter.widget-view+json": {
              "model_id": "5e6adfa20d5d4f4786e95602a8d7dabc",
              "version_major": 2,
              "version_minor": 0
            },
            "text/plain": [
              "Batches:   0%|          | 0/1 [00:00<?, ?it/s]"
            ]
          },
          "metadata": {},
          "output_type": "display_data"
        },
        {
          "name": "stdout",
          "output_type": "stream",
          "text": [
            "  • Cats communicate through various vocalizations including meowing, purring, and hissing. (Score: 0.784)\n",
            "  • Cats are small, typically furry, carnivorous mammals. They are often kept as house pets. (Score: 0.445)\n",
            "\n",
            "\n",
            "Query: 'What programming language is simple?'\n"
          ]
        },
        {
          "data": {
            "application/vnd.jupyter.widget-view+json": {
              "model_id": "571a39c44fab4618bed31259311a43cf",
              "version_major": 2,
              "version_minor": 0
            },
            "text/plain": [
              "Batches:   0%|          | 0/1 [00:00<?, ?it/s]"
            ]
          },
          "metadata": {},
          "output_type": "display_data"
        },
        {
          "name": "stdout",
          "output_type": "stream",
          "text": [
            "  • Python is a high-level programming language known for its simplicity and readability. (Score: 0.637)\n",
            "  • Machine learning is a subset of artificial intelligence that focuses on algorithms that can learn from data. (Score: 0.193)\n",
            "\n",
            "\n",
            "Query: 'Which planet is the largest?'\n"
          ]
        },
        {
          "data": {
            "application/vnd.jupyter.widget-view+json": {
              "model_id": "2cb6c9ad2551448882890248bec16e5f",
              "version_major": 2,
              "version_minor": 0
            },
            "text/plain": [
              "Batches:   0%|          | 0/1 [00:00<?, ?it/s]"
            ]
          },
          "metadata": {},
          "output_type": "display_data"
        },
        {
          "name": "stdout",
          "output_type": "stream",
          "text": [
            "  • Jupiter is the largest planet in our solar system and has a Great Red Spot. (Score: 0.644)\n",
            "  • The solar system consists of eight planets orbiting around the sun. (Score: 0.485)\n",
            "\n",
            "\n",
            "Query: 'Tell me about artificial intelligence'\n"
          ]
        },
        {
          "data": {
            "application/vnd.jupyter.widget-view+json": {
              "model_id": "f0d5b57250884691b1750781ef826e18",
              "version_major": 2,
              "version_minor": 0
            },
            "text/plain": [
              "Batches:   0%|          | 0/1 [00:00<?, ?it/s]"
            ]
          },
          "metadata": {},
          "output_type": "display_data"
        },
        {
          "name": "stdout",
          "output_type": "stream",
          "text": [
            "  • Machine learning is a subset of artificial intelligence that focuses on algorithms that can learn from data. (Score: 0.580)\n",
            "  • Deep learning uses neural networks with multiple layers to process complex data patterns. (Score: 0.418)\n",
            "\n",
            "Try running 'interactive_search()' to test your own queries!\n"
          ]
        }
      ],
      "source": [
        "# Interactive query testing\n",
        "def interactive_search():\n",
        "    \"\"\"\n",
        "    Interactive function to test queries against our knowledge base.\n",
        "    \"\"\"\n",
        "    print(\"Interactive Knowledge Base Search\")\n",
        "    print(\"=\"*50)\n",
        "    print(\"Enter your questions about cats, dogs, weather, programming, or planets!\")\n",
        "    print(\"Type 'quit' to exit.\")\n",
        "    print()\n",
        "    \n",
        "    while True:\n",
        "        try:\n",
        "            query = input(\"Enter your question: \").strip()\n",
        "            \n",
        "            if query.lower() in ['quit', 'exit', 'q']:\n",
        "                print(\"Goodbye!\")\n",
        "                break\n",
        "            \n",
        "            if not query:\n",
        "                print(\"Please enter a question.\")\n",
        "                continue\n",
        "            \n",
        "            print(f\"\\nSearching for: '{query}'\")\n",
        "            print(\"-\" * 40)\n",
        "            \n",
        "            results = find_relevant_docs(query, knowledge_base, kb_embeddings, model)\n",
        "            \n",
        "            if results:\n",
        "                for result in results:\n",
        "                    print(f\" Rank {result['rank']} (Similarity: {result['similarity']:.3f})\")\n",
        "                    print(f\"   {result['document']}\")\n",
        "                    print()\n",
        "            else:\n",
        "                print(\"No results found.\")\n",
        "            \n",
        "            print(\"-\" * 40)\n",
        "            \n",
        "        except KeyboardInterrupt:\n",
        "            print(\"\\nGoodbye!\")\n",
        "            break\n",
        "        except Exception as e:\n",
        "            print(f\"Error: {e}\")\n",
        "\n",
        "# Uncomment the line below to run interactive search\n",
        "# interactive_search()\n",
        "\n",
        "# For notebook demonstration, let's show a few more examples\n",
        "demo_queries = [\n",
        "    \"How do cats communicate?\",\n",
        "    \"What programming language is simple?\",\n",
        "    \"Which planet is the largest?\",\n",
        "    \"Tell me about artificial intelligence\"\n",
        "]\n",
        "\n",
        "print(\"Demo: Testing more queries\")\n",
        "print(\"=\"*30)\n",
        "\n",
        "for query in demo_queries:\n",
        "    print(f\"\\nQuery: '{query}'\")\n",
        "    results = find_relevant_docs(query, knowledge_base, kb_embeddings, model)\n",
        "    \n",
        "    for result in results[:2]:  # Show top 2 results\n",
        "        print(f\"  • {result['document']} (Score: {result['similarity']:.3f})\")\n",
        "    \n",
        "    print()\n",
        "\n",
        "print(\"Try running 'interactive_search()' to test your own queries!\")\n"
      ]
    },
    {
      "cell_type": "markdown",
      "metadata": {},
      "source": [
        "## Step 5: Understanding RAG Challenges\n",
        "\n",
        "Now that we've built a simple retrieval system, let's explore some of the challenges and limitations we'll face when building a real RAG system.\n"
      ]
    },
    {
      "cell_type": "code",
      "execution_count": null,
      "metadata": {},
      "outputs": [
        {
          "name": "stdout",
          "output_type": "stream",
          "text": [
            " RAG System Challenges and Solutions\n",
            "==================================================\n",
            "\n",
            "1. AMBIGUOUS QUERIES\n",
            "--------------------\n",
            "\n",
            "Query: 'What is Python?'\n"
          ]
        },
        {
          "data": {
            "application/vnd.jupyter.widget-view+json": {
              "model_id": "160ad799f64e4cd08f67899b287854fe",
              "version_major": 2,
              "version_minor": 0
            },
            "text/plain": [
              "Batches:   0%|          | 0/1 [00:00<?, ?it/s]"
            ]
          },
          "metadata": {},
          "output_type": "display_data"
        },
        {
          "name": "stdout",
          "output_type": "stream",
          "text": [
            "  • Python is a high-level programming language known for its simplicity and readability. (Score: 0.837)\n",
            "  • Machine learning is a subset of artificial intelligence that focuses on algorithms that can learn from data. (Score: 0.240)\n",
            "\n",
            " Challenge: Without context, the system might retrieve irrelevant information\n",
            " Solution: Better query understanding, context from conversation history\n",
            "\n",
            "\n",
            "2. CHUNKING CHALLENGES\n",
            "-------------------------\n",
            "Original document split into chunks:\n",
            "Chunk 1: Cats are fascinating animals with a rich history of domestic...\n",
            "Chunk 2: Cats are obligate carnivores, meaning they must eat meat to ...\n",
            "Chunk 3: Cats communicate through various methods including vocalizat...\n",
            "Chunk 4: Cats are known for their independent nature, but they can fo...\n",
            "Chunk 5: Cats have retractable claws that help them climb and hunt ef...\n"
          ]
        },
        {
          "data": {
            "application/vnd.jupyter.widget-view+json": {
              "model_id": "a07672f379ce4de7bbee2382aff3c370",
              "version_major": 2,
              "version_minor": 0
            },
            "text/plain": [
              "Batches:   0%|          | 0/1 [00:00<?, ?it/s]"
            ]
          },
          "metadata": {},
          "output_type": "display_data"
        },
        {
          "name": "stdout",
          "output_type": "stream",
          "text": [
            "\n",
            "Query: 'How long do cats sleep?'\n"
          ]
        },
        {
          "data": {
            "application/vnd.jupyter.widget-view+json": {
              "model_id": "5e10082ad97c46748d2ff9e17cf1e7dc",
              "version_major": 2,
              "version_minor": 0
            },
            "text/plain": [
              "Batches:   0%|          | 0/1 [00:00<?, ?it/s]"
            ]
          },
          "metadata": {},
          "output_type": "display_data"
        },
        {
          "name": "stdout",
          "output_type": "stream",
          "text": [
            "  • Cats are known for their independent nature, but they can form strong bonds with their human companions. They spend a significant portion of their day sleeping, typically 12-16 hours. (Score: 0.782)\n",
            "  • Cats have retractable claws that help them climb and hunt effectively. The average lifespan of a domestic cat is 13-17 years, though some live much longer. (Score: 0.549)\n",
            "\n",
            " Challenge: Information might be split across chunks\n",
            " Solution: Overlapping chunks, better chunking strategies, re-ranking\n",
            "\n",
            "\n",
            "3. SIMILARITY THRESHOLDS\n",
            "-------------------------\n"
          ]
        },
        {
          "data": {
            "application/vnd.jupyter.widget-view+json": {
              "model_id": "8385e62c38c04e4b891343c27d0005de",
              "version_major": 2,
              "version_minor": 0
            },
            "text/plain": [
              "Batches:   0%|          | 0/1 [00:00<?, ?it/s]"
            ]
          },
          "metadata": {},
          "output_type": "display_data"
        },
        {
          "name": "stdout",
          "output_type": "stream",
          "text": [
            "'What is machine learning?' -> Best match: 0.832  Relevant\n"
          ]
        },
        {
          "data": {
            "application/vnd.jupyter.widget-view+json": {
              "model_id": "f957142abf724660833f80f3e6996c79",
              "version_major": 2,
              "version_minor": 0
            },
            "text/plain": [
              "Batches:   0%|          | 0/1 [00:00<?, ?it/s]"
            ]
          },
          "metadata": {},
          "output_type": "display_data"
        },
        {
          "name": "stdout",
          "output_type": "stream",
          "text": [
            "'Tell me about neural networks' -> Best match: 0.622  Relevant\n"
          ]
        },
        {
          "data": {
            "application/vnd.jupyter.widget-view+json": {
              "model_id": "37fc4518ea3240aeb75a86e4424f6cff",
              "version_major": 2,
              "version_minor": 0
            },
            "text/plain": [
              "Batches:   0%|          | 0/1 [00:00<?, ?it/s]"
            ]
          },
          "metadata": {},
          "output_type": "display_data"
        },
        {
          "name": "stdout",
          "output_type": "stream",
          "text": [
            "'How does artificial intelligence work?' -> Best match: 0.553  Relevant\n"
          ]
        },
        {
          "data": {
            "application/vnd.jupyter.widget-view+json": {
              "model_id": "14192b9f67d248abba3957a3e9e38729",
              "version_major": 2,
              "version_minor": 0
            },
            "text/plain": [
              "Batches:   0%|          | 0/1 [00:00<?, ?it/s]"
            ]
          },
          "metadata": {},
          "output_type": "display_data"
        },
        {
          "name": "stdout",
          "output_type": "stream",
          "text": [
            "'What is the weather like?' -> Best match: 0.493  Relevant\n",
            "\n",
            " Challenge: Setting appropriate similarity thresholds\n",
            " Solution: Experiment with thresholds, use multiple retrieval strategies\n",
            "\n",
            "\n",
            "4. HALLUCINATION PREVENTION\n",
            "------------------------------\n"
          ]
        },
        {
          "data": {
            "application/vnd.jupyter.widget-view+json": {
              "model_id": "fc2824103fb24e9aa1457a954fc9f229",
              "version_major": 2,
              "version_minor": 0
            },
            "text/plain": [
              "Batches:   0%|          | 0/1 [00:00<?, ?it/s]"
            ]
          },
          "metadata": {},
          "output_type": "display_data"
        },
        {
          "name": "stdout",
          "output_type": "stream",
          "text": [
            "Query: 'What is the population of Mars?'\n",
            "Retrieved documents:\n",
            "  • Jupiter is the largest planet in our solar system and has a Great Red Spot. (Score: 0.349)\n",
            "  • The solar system consists of eight planets orbiting around the sun. (Score: 0.333)\n",
            "  • Dogs are domesticated mammals that have been selectively bred over thousands of years. (Score: 0.117)\n",
            "\n",
            " Challenge: LLM might generate answers even when no relevant info exists\n",
            " Solution: Check retrieval quality, use confidence thresholds, provide 'no relevant info' responses\n",
            "\n",
            "============================================================\n",
            "These challenges show why RAG systems need careful design!\n",
            "In the next notebooks, we'll learn how to address each of these issues.\n"
          ]
        }
      ],
      "source": [
        "# Let's explore some RAG challenges with examples\n",
        "\n",
        "print(\"RAG System Challenges and Solutions\")\n",
        "print(\"=\"*50)\n",
        "\n",
        "# Challenge 1: Ambiguous queries\n",
        "print(\"\\n1. AMBIGUOUS QUERIES\")\n",
        "print(\"-\" * 20)\n",
        "\n",
        "ambiguous_queries = [\n",
        "    \"What is Python?\",  # Could be programming language or snake\n",
        "]\n",
        "\n",
        "for query in ambiguous_queries:\n",
        "    print(f\"\\nQuery: '{query}'\")\n",
        "    results = find_relevant_docs(query, knowledge_base, kb_embeddings, model, top_k=2)\n",
        "    for result in results:\n",
        "        print(f\"  • {result['document']} (Score: {result['similarity']:.3f})\")\n",
        "\n",
        "print(\"\\n Challenge: Without context, the system might retrieve irrelevant information\")\n",
        "print(\" Solution: Better query understanding, context from conversation history\")\n",
        "\n",
        "# Challenge 2: Chunking problems\n",
        "print(\"\\n\\n2. CHUNKING CHALLENGES\")\n",
        "print(\"-\" * 25)\n",
        "\n",
        "# Let's create a longer document and see how chunking affects retrieval\n",
        "long_document = \"\"\"\n",
        "Cats are fascinating animals with a rich history of domestication. \n",
        "They were first domesticated in ancient Egypt around 4,000 years ago.\n",
        "Cats are obligate carnivores, meaning they must eat meat to survive.\n",
        "They have excellent night vision and can see in light levels six times lower than humans.\n",
        "Cats communicate through various methods including vocalizations, body language, and scent marking.\n",
        "The domestic cat is a member of the Felidae family, which includes lions, tigers, and other wild cats.\n",
        "Cats are known for their independent nature, but they can form strong bonds with their human companions.\n",
        "They spend a significant portion of their day sleeping, typically 12-16 hours.\n",
        "Cats have retractable claws that help them climb and hunt effectively.\n",
        "The average lifespan of a domestic cat is 13-17 years, though some live much longer.\n",
        "\"\"\"\n",
        "\n",
        "# Split into chunks (simulating chunking)\n",
        "chunks = [\n",
        "    \"Cats are fascinating animals with a rich history of domestication. They were first domesticated in ancient Egypt around 4,000 years ago.\",\n",
        "    \"Cats are obligate carnivores, meaning they must eat meat to survive. They have excellent night vision and can see in light levels six times lower than humans.\",\n",
        "    \"Cats communicate through various methods including vocalizations, body language, and scent marking. The domestic cat is a member of the Felidae family, which includes lions, tigers, and other wild cats.\",\n",
        "    \"Cats are known for their independent nature, but they can form strong bonds with their human companions. They spend a significant portion of their day sleeping, typically 12-16 hours.\",\n",
        "    \"Cats have retractable claws that help them climb and hunt effectively. The average lifespan of a domestic cat is 13-17 years, though some live much longer.\"\n",
        "]\n",
        "\n",
        "print(\"Original document split into chunks:\")\n",
        "for i, chunk in enumerate(chunks):\n",
        "    print(f\"Chunk {i+1}: {chunk[:60]}...\")\n",
        "\n",
        "# Test retrieval with chunked content\n",
        "chunk_embeddings = model.encode(chunks)\n",
        "test_query = \"How long do cats sleep?\"\n",
        "\n",
        "print(f\"\\nQuery: '{test_query}'\")\n",
        "results = find_relevant_docs(test_query, chunks, chunk_embeddings, model, top_k=2)\n",
        "\n",
        "for result in results:\n",
        "    print(f\"  • {result['document']} (Score: {result['similarity']:.3f})\")\n",
        "\n",
        "print(\"\\n Challenge: Information might be split across chunks\")\n",
        "print(\" Solution: Overlapping chunks, better chunking strategies, re-ranking\")\n",
        "\n",
        "# Challenge 3: Similarity threshold\n",
        "print(\"\\n\\n3. SIMILARITY THRESHOLDS\")\n",
        "print(\"-\" * 25)\n",
        "\n",
        "test_queries = [\n",
        "    \"What is machine learning?\",\n",
        "    \"Tell me about neural networks\",\n",
        "    \"How does artificial intelligence work?\",\n",
        "    \"What is the weather like?\"  # This should have low similarity to our knowledge base\n",
        "]\n",
        "\n",
        "for query in test_queries:\n",
        "    results = find_relevant_docs(query, knowledge_base, kb_embeddings, model, top_k=1)\n",
        "    best_match = results[0]\n",
        "    \n",
        "    relevance = \" Relevant\" if best_match['similarity'] > 0.3 else \" Not Relevant\"\n",
        "    print(f\"'{query}' -> Best match: {best_match['similarity']:.3f} {relevance}\")\n",
        "\n",
        "print(\"\\n Challenge: Setting appropriate similarity thresholds\")\n",
        "print(\" Solution: Experiment with thresholds, use multiple retrieval strategies\")\n",
        "\n",
        "# Challenge 4: Hallucination prevention\n",
        "print(\"\\n\\n4. HALLUCINATION PREVENTION\")\n",
        "print(\"-\" * 30)\n",
        "\n",
        "# Simulate what might happen if we don't have relevant information\n",
        "irrelevant_query = \"What is the population of Mars?\"\n",
        "results = find_relevant_docs(irrelevant_query, knowledge_base, kb_embeddings, model, top_k=3)\n",
        "\n",
        "print(f\"Query: '{irrelevant_query}'\")\n",
        "print(\"Retrieved documents:\")\n",
        "for result in results:\n",
        "    print(f\"  • {result['document']} (Score: {result['similarity']:.3f})\")\n",
        "\n",
        "print(\"\\n Challenge: LLM might generate answers even when no relevant info exists\")\n",
        "print(\" Solution: Check retrieval quality, use confidence thresholds, provide 'no relevant info' responses\")\n",
        "\n",
        "print(\"\\n\" + \"=\"*60)\n",
        "print(\"These challenges show why RAG systems need careful design!\")\n",
        "print(\"In the next notebooks, we'll learn how to address each of these issues.\")\n"
      ]
    },
    {
      "cell_type": "markdown",
      "metadata": {},
      "source": [
        "## Summary: What We've Learned\n",
        "\n",
        "You've now built and tested a basic retrieval system. Here's what we've accomplished:\n",
        "\n",
        "### Key Concepts Covered:\n",
        "1. **Embeddings**: Converting text to numerical vectors that capture semantic meaning\n",
        "2. **Similarity Search**: Finding relevant documents using cosine similarity\n",
        "3. **Retrieval Pipeline**: Query → Embedding → Similarity → Ranking\n",
        "4. **Real Challenges**: Ambiguous queries, chunking, thresholds, hallucination\n",
        "\n",
        "### What You Can Do Now:\n",
        "- Understand how text embeddings work\n",
        "- Build a simple retrieval system\n",
        "- Test queries against a knowledge base\n",
        "- Identify common RAG challenges\n",
        "- Visualize how embeddings represent text relationships\n",
        "\n",
        "### Next Steps:\n",
        "In the upcoming notebooks, we'll tackle:\n",
        "1. **Data Collection** - Getting real Wikipedia and ArXiv data\n",
        "2. **Text Preprocessing** - Cleaning and chunking strategies\n",
        "3. **Advanced Retrieval** - Better embedding models and search techniques\n",
        "4. **Generation** - Connecting LLMs to create complete answers\n",
        "5. **Evaluation** - Measuring how well our system works\n"
      ]
    },
    {
      "cell_type": "markdown",
      "metadata": {},
      "source": []
    }
  ],
  "metadata": {
    "kernelspec": {
      "display_name": "base",
      "language": "python",
      "name": "python3"
    },
    "language_info": {
      "codemirror_mode": {
        "name": "ipython",
        "version": 3
      },
      "file_extension": ".py",
      "mimetype": "text/x-python",
      "name": "python",
      "nbconvert_exporter": "python",
      "pygments_lexer": "ipython3",
      "version": "3.12.2"
    }
  },
  "nbformat": 4,
  "nbformat_minor": 2
}
