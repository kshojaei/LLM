{
 "cells": [
  {
   "cell_type": "code",
   "execution_count": 27,
   "id": "eaae7d1b",
   "metadata": {},
   "outputs": [
    {
     "data": {
      "text/plain": [
       "sys.version_info(major=3, minor=12, micro=2, releaselevel='final', serial=0)"
      ]
     },
     "execution_count": 27,
     "metadata": {},
     "output_type": "execute_result"
    }
   ],
   "source": [
    "import os \n",
    "import platform\n",
    "import sys \n",
    "import subprocess\n",
    "from pathlib import Path\n",
    "\n",
    "sys.version_info"
   ]
  },
  {
   "cell_type": "code",
   "execution_count": 39,
   "id": "a04396d9",
   "metadata": {},
   "outputs": [],
   "source": [
    "res = Path('/Users/scienceman/Desktop/LLM/')"
   ]
  },
  {
   "cell_type": "code",
   "execution_count": 41,
   "id": "87f4f1a7",
   "metadata": {},
   "outputs": [
    {
     "name": "stdout",
     "output_type": "stream",
     "text": [
      "/Users/scienceman/Desktop/LLM/test_setup.py\n",
      "/Users/scienceman/Desktop/LLM/requirements.txt\n",
      "/Users/scienceman/Desktop/LLM/tests\n",
      "/Users/scienceman/Desktop/LLM/env_example.txt\n",
      "/Users/scienceman/Desktop/LLM/models\n",
      "/Users/scienceman/Desktop/LLM/docs\n",
      "/Users/scienceman/Desktop/LLM/README.md\n",
      "/Users/scienceman/Desktop/LLM/GETTING_STARTED.md\n",
      "/Users/scienceman/Desktop/LLM/setup.py\n",
      "/Users/scienceman/Desktop/LLM/logs\n",
      "/Users/scienceman/Desktop/LLM/.git\n",
      "/Users/scienceman/Desktop/LLM/data\n",
      "/Users/scienceman/Desktop/LLM/notebooks\n",
      "/Users/scienceman/Desktop/LLM/src\n"
     ]
    }
   ],
   "source": [
    "for file in res.iterdir():\n",
    "    print(file)"
   ]
  },
  {
   "cell_type": "code",
   "execution_count": 47,
   "id": "06a1184a",
   "metadata": {},
   "outputs": [
    {
     "data": {
      "text/plain": [
       "sys.version_info(major=3, minor=12, micro=2, releaselevel='final', serial=0)"
      ]
     },
     "execution_count": 47,
     "metadata": {},
     "output_type": "execute_result"
    }
   ],
   "source": [
    "sys.version_info"
   ]
  },
  {
   "cell_type": "code",
   "execution_count": null,
   "id": "9387a2b0",
   "metadata": {},
   "outputs": [
    {
     "data": {
      "text/plain": [
       "sys.version_info(major=3, minor=12, micro=2, releaselevel='final', serial=0)"
      ]
     },
     "execution_count": 46,
     "metadata": {},
     "output_type": "execute_result"
    }
   ],
   "source": []
  },
  {
   "cell_type": "code",
   "execution_count": 50,
   "id": "2f88dc4a",
   "metadata": {},
   "outputs": [
    {
     "ename": "SystemExit",
     "evalue": "0",
     "output_type": "error",
     "traceback": [
      "An exception has occurred, use %tb to see the full traceback.\n",
      "\u001b[0;31mSystemExit\u001b[0m\u001b[0;31m:\u001b[0m 0\n"
     ]
    }
   ],
   "source": [
    "sys.exit(0)"
   ]
  },
  {
   "cell_type": "code",
   "execution_count": null,
   "id": "e29241de",
   "metadata": {},
   "outputs": [],
   "source": []
  },
  {
   "cell_type": "code",
   "execution_count": null,
   "id": "e5a24377",
   "metadata": {},
   "outputs": [],
   "source": []
  }
 ],
 "metadata": {
  "kernelspec": {
   "display_name": "base",
   "language": "python",
   "name": "python3"
  },
  "language_info": {
   "codemirror_mode": {
    "name": "ipython",
    "version": 3
   },
   "file_extension": ".py",
   "mimetype": "text/x-python",
   "name": "python",
   "nbconvert_exporter": "python",
   "pygments_lexer": "ipython3",
   "version": "3.12.2"
  }
 },
 "nbformat": 4,
 "nbformat_minor": 5
}
