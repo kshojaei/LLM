{
  "cells": [
    {
      "cell_type": "markdown",
      "metadata": {},
      "source": [
        "# Vector Database for Production RAG Systems\n",
        "\n",
        "This notebook demonstrates how to build and manage vector databases for production RAG applications.\n",
        "\n",
        "## Learning Objectives\n",
        "- Understand vector database architectures\n",
        "- Learn to manage multiple vector database backends\n",
        "- Implement production-ready vector operations\n",
        "- Handle large-scale document indexing\n",
        "- Monitor and maintain vector databases\n"
      ]
    },
    {
      "cell_type": "code",
      "execution_count": null,
      "metadata": {},
      "outputs": [],
      "source": [
        "# Import required libraries\n",
        "import sys\n",
        "import os\n",
        "import json\n",
        "import pandas as pd\n",
        "import numpy as np\n",
        "import matplotlib.pyplot as plt\n",
        "import seaborn as sns\n",
        "from pathlib import Path\n",
        "import time\n",
        "from datetime import datetime\n",
        "import warnings\n",
        "warnings.filterwarnings('ignore')\n",
        "\n",
        "# Add src to path\n",
        "sys.path.append('../src')\n",
        "\n",
        "# Import our vector database manager\n",
        "from vector_db.vector_manager import VectorDatabaseManager, create_vector_database\n",
        "from data.preprocess_data import TextPreprocessor\n",
        "from config import DATA_DIR\n",
        "\n",
        "print(\"Libraries imported successfully!\")\n"
      ]
    }
  ],
  "metadata": {
    "language_info": {
      "name": "python"
    }
  },
  "nbformat": 4,
  "nbformat_minor": 2
}
